{
 "cells": [
  {
   "attachments": {},
   "cell_type": "markdown",
   "metadata": {},
   "source": [
    "# Bayesian Optimization and Neural Network Model Training on the Boston Housing Dataset\n",
    "\n",
    "In this tutorial, we will use the Boston Housing dataset, a popular dataset for regression problems. The Boston Housing dataset contains information about the housing values in suburbs of Boston. There are 506 samples and 13 feature variables in this dataset. Our objective is to predict the value of houses in the suburbs of Boston based on these features.\n",
    "\n",
    "The task will be accomplished in two major steps. First, we will use a simple neural network (NN) model for prediction, which will help us understand the performance of a baseline model on this dataset. Then, we will use Bayesian optimization (BO) to search for the optimal hyperparameters of the NN model to improve its performance.\n",
    "\n",
    "This tutorial demonstrates how to use machine learning tools in Python for model training and hyperparameter optimization. The libraries we'll use include TensorFlow, Keras, scikit-learn, and GPyOpt.\n"
   ]
  },
  {
   "attachments": {},
   "cell_type": "markdown",
   "id": "b3c83150",
   "metadata": {},
   "source": [
    "## 1. Preparing the Environment and Data\n",
    "\n",
    "We start by importing the necessary libraries and loading the Boston Housing dataset. We then normalize the features for effective training of the neural network model. \n",
    "\n",
    "We also set up the path to save the results of our model training and hyperparameter optimization.\n"
   ]
  },
  {
   "cell_type": "code",
   "execution_count": 17,
   "id": "79a4630c",
   "metadata": {
    "execution": {
     "iopub.execute_input": "2023-03-23T18:24:32.131101Z",
     "iopub.status.busy": "2023-03-23T18:24:32.130695Z",
     "iopub.status.idle": "2023-03-23T18:24:39.876477Z",
     "shell.execute_reply": "2023-03-23T18:24:39.875516Z"
    },
    "papermill": {
     "duration": 7.802611,
     "end_time": "2023-03-23T18:24:39.878943",
     "exception": false,
     "start_time": "2023-03-23T18:24:32.076332",
     "status": "completed"
    },
    "tags": []
   },
   "outputs": [
    {
     "name": "stdout",
     "output_type": "stream",
     "text": [
      "Folder './/Model_Saved//GpyOpt_hyperparameter_YW_master/' already exists.\n"
     ]
    }
   ],
   "source": [
    "import os\n",
    "os.environ['CUDA_VISIBLE_DEVICES'] = '-1'\n",
    "\n",
    "import numpy as np\n",
    "import matplotlib.pyplot as plt\n",
    "import pandas as pd\n",
    "\n",
    "import tensorflow as tf\n",
    "from tensorflow import keras\n",
    "from keras.models import Sequential\n",
    "from keras.layers import Dense, Dropout\n",
    "from keras.datasets import boston_housing\n",
    "from sklearn.preprocessing import StandardScaler\n",
    "from sklearn.metrics import r2_score\n",
    "import GPyOpt\n",
    "from tqdm import tqdm\n",
    "\n",
    "from joblib import Parallel, delayed\n",
    "from concurrent.futures import ProcessPoolExecutor, as_completed\n",
    "\n",
    "import seaborn as sns\n",
    "import time\n",
    "\n",
    "\n",
    "# Set up folders for saving results\n",
    "notebook_fname = \"GpyOpt_hyperparameter_YW_master\"\n",
    "folder_name = \"/Model_Saved/\"\n",
    "\n",
    "model_path = f'./{folder_name}/{notebook_fname}/'\n",
    "\n",
    "if not os.path.exists(model_path):\n",
    "    os.makedirs(model_path)\n",
    "    print(f\"Folder '{model_path}' created.\")\n",
    "else:\n",
    "    print(f\"Folder '{model_path}' already exists.\")\n"
   ]
  },
  {
   "attachments": {},
   "cell_type": "markdown",
   "id": "9e743ca5",
   "metadata": {
    "papermill": {
     "duration": 0.073843,
     "end_time": "2023-03-23T18:24:40.036814",
     "exception": false,
     "start_time": "2023-03-23T18:24:39.962971",
     "status": "completed"
    },
    "tags": []
   },
   "source": [
    "##### Load and normalize the Boston Housing dataset\n"
   ]
  },
  {
   "cell_type": "code",
   "execution_count": 18,
   "id": "d3e89a82",
   "metadata": {
    "execution": {
     "iopub.execute_input": "2023-03-23T18:24:40.293635Z",
     "iopub.status.busy": "2023-03-23T18:24:40.293311Z",
     "iopub.status.idle": "2023-03-23T18:24:46.628444Z",
     "shell.execute_reply": "2023-03-23T18:24:46.627220Z"
    },
    "papermill": {
     "duration": 6.449072,
     "end_time": "2023-03-23T18:24:46.630549",
     "exception": false,
     "start_time": "2023-03-23T18:24:40.181477",
     "status": "completed"
    },
    "tags": []
   },
   "outputs": [
    {
     "name": "stdout",
     "output_type": "stream",
     "text": [
      "(404, 13) (404,)\n",
      "(102, 13) (102,)\n"
     ]
    }
   ],
   "source": [
    "# Load the Boston Housing dataset\n",
    "(x_train, y_train), (x_test, y_test) = boston_housing.load_data()\n",
    "\n",
    "print(x_train.shape, y_train.shape)\n",
    "print(x_test.shape, y_test.shape)\n",
    "\n",
    "# Standardize the input data\n",
    "scaler       = StandardScaler().fit(x_train)\n",
    "x_train_norm = scaler.transform(x_train)\n",
    "x_test_norm  = scaler.transform(x_test)\n",
    " "
   ]
  },
  {
   "attachments": {},
   "cell_type": "markdown",
   "id": "c079e2e1",
   "metadata": {},
   "source": [
    "## 2. Training the Baseline Neural Network Model\n",
    "\n",
    "Next, we define and train a baseline neural network model on the training set. We will use the Mean Absolute Error (MAE) or Mean Squared Error (MSE) as the loss function. We can evaluate the model's performance based on either the validation loss or the R2 score. The training process is timed for performance measurement."
   ]
  },
  {
   "cell_type": "code",
   "execution_count": 19,
   "id": "03a57f92",
   "metadata": {},
   "outputs": [
    {
     "name": "stdout",
     "output_type": "stream",
     "text": [
      "Time taken:  3 seconds\n",
      "validation loss: 3.0747\n",
      "score_r2: 0.7629\n"
     ]
    }
   ],
   "source": [
    "# Define the model architecture\n",
    "def create_model(num_hidden, num_nodes, dropout_rate, loss_class):\n",
    "    model = Sequential()\n",
    "    model.add(Dense(num_nodes, input_dim=13, activation='relu'))\n",
    "    if loss_class == 0: \n",
    "        loss_func = 'mse'\n",
    "    elif loss_class == 1: \n",
    "        loss_func = 'mae'\n",
    "    else:\n",
    "        raise ValueError(f\"Invalid loss function '{loss}'. Valid options are 'mse' or 'mae'.\")\n",
    "    \n",
    "    for i in range(num_hidden):\n",
    "        model.add(Dense(num_nodes, activation='relu'))\n",
    "        model.add(Dropout(dropout_rate))\n",
    "    model.add(Dense(1, activation='linear'))\n",
    "    model.compile(loss=loss_func, optimizer='adam')\n",
    "    return model\n",
    "\n",
    "# Model training\n",
    "start_time = time.time()\n",
    "\n",
    "num_hidden   = 2\n",
    "num_nodes    = 32\n",
    "dropout_rate = 0.368187\n",
    "loss_class   = 1\n",
    "\n",
    "model = create_model(num_hidden, num_nodes, dropout_rate, loss_class)\n",
    "history = model.fit(x_train_norm, y_train, validation_data = (x_test_norm, y_test),\n",
    "                    epochs=50, batch_size=32, verbose=0)\n",
    "\n",
    "elapsed_time = time.time() - start_time\n",
    "print(\"Time taken: \", int(elapsed_time), \"seconds\")\n",
    "\n",
    "\n",
    "\n",
    "# ----- we can evaluate the model by the validation loss\n",
    "score_loss = model.evaluate(x_test_norm, y_test, verbose=0)\n",
    "print(f'validation loss: {score_loss:.4f}')\n",
    "\n",
    "# ----- or by the R2 score\n",
    "y_test_pred = model.predict(x_test_norm, verbose=0)\n",
    "score_r2    = r2_score(y_test, y_test_pred)\n",
    "print(f'score_r2: {score_r2:.4f}')"
   ]
  },
  {
   "attachments": {},
   "cell_type": "markdown",
   "id": "82b42ff9",
   "metadata": {},
   "source": [
    "#####  Plot training and validation loss"
   ]
  },
  {
   "cell_type": "code",
   "execution_count": 20,
   "id": "3042e54d",
   "metadata": {
    "execution": {
     "iopub.execute_input": "2023-03-23T18:24:46.821138Z",
     "iopub.status.busy": "2023-03-23T18:24:46.820775Z"
    },
    "papermill": {
     "duration": 0.261491,
     "end_time": "2023-03-23T18:24:46.933138",
     "exception": false,
     "start_time": "2023-03-23T18:24:46.671647",
     "status": "completed"
    },
    "tags": []
   },
   "outputs": [
    {
     "data": {
      "image/png": "[encoded data removed]",
      "text/plain": [
       "<Figure size 800x400 with 2 Axes>"
      ]
     },
     "metadata": {},
     "output_type": "display_data"
    }
   ],
   "source": [
    "fig, (ax1, ax2) = plt.subplots(1, 2, figsize=(8, 4))\n",
    "\n",
    "# Plot training and validation loss in the first subplot\n",
    "ax1.plot(history.history['loss'], label='training_loss')\n",
    "ax1.plot(history.history['val_loss'], label='val_loss')\n",
    "ax1.set_ylim(0, 100)\n",
    "ax1.set_xlabel('Epoch')\n",
    "ax1.set_ylabel('Loss')\n",
    "ax1.legend()\n",
    "\n",
    "# Plot predicted vs actual in the second subplot\n",
    "lims = [0, 60]\n",
    "ax2.set_xlim(lims)\n",
    "ax2.set_ylim(lims)\n",
    "ax2.plot(lims, lims, color='grey')\n",
    "ax2.scatter(y_test, y_test_pred, label='Predicted vs. Actual')\n",
    "ax2.set_xlabel('Actual')\n",
    "ax2.set_ylabel('Predicted')\n",
    "ax2.legend()\n",
    "\n",
    "plt.tight_layout()\n",
    "plt.show()\n",
    "\n"
   ]
  },
  {
   "attachments": {},
   "cell_type": "markdown",
   "id": "5409aa7e",
   "metadata": {
    "papermill": {
     "duration": null,
     "end_time": null,
     "exception": null,
     "start_time": null,
     "status": "completed"
    },
    "tags": []
   },
   "source": [
    "# 3. Hyperparameter Optimization with Bayesian Optimization\n",
    "\n",
    "We use Bayesian optimization to fine-tune the hyperparameters of our neural network. The objective function to be optimized is defined in the `BO_hyper_objective` function, which takes hyperparameters as input and returns the R-square score and validation loss."
   ]
  },
  {
   "cell_type": "code",
   "execution_count": 21,
   "id": "5db76806",
   "metadata": {
    "execution": {
     "iopub.execute_input": "2023-03-23T18:03:20.230578Z",
     "iopub.status.busy": "2023-03-23T18:03:20.230212Z",
     "iopub.status.idle": "2023-03-23T18:04:13.277364Z",
     "shell.execute_reply": "2023-03-23T18:04:13.276113Z"
    },
    "papermill": {
     "duration": null,
     "end_time": null,
     "exception": null,
     "start_time": null,
     "status": "completed"
    },
    "tags": []
   },
   "outputs": [
    {
     "name": "stdout",
     "output_type": "stream",
     "text": [
      "Iteration: 1/60\n",
      "Iteration: 2/60\n",
      "Iteration: 3/60\n",
      "Iteration: 4/60\n"
     ]
    }
   ],
   "source": [
    "start_time = time.time()\n",
    "\n",
    "# Define the objective function\n",
    "def BO_hyper_objective(params, score_loss_list):\n",
    "    \n",
    "    global bo_iteration # indicate that bo_iteration is a global variable\n",
    "\n",
    "    num_hidden   = int(params[0][0])\n",
    "    num_nodes    = int(params[0][1])\n",
    "    dropout_rate = params[0][2]\n",
    "    loss_class   = int(params[0][3])\n",
    "\n",
    "    model = create_model(num_hidden, num_nodes, dropout_rate, loss_class)\n",
    "\n",
    "    model.fit(x_train_norm, y_train, epochs=50, batch_size=32, verbose=0)\n",
    "\n",
    "    score_loss = model.evaluate(x_test_norm, y_test, verbose=0)\n",
    "\n",
    "    y_test_pred = model.predict(x_test_norm, verbose=0)\n",
    "    score_r2    = r2_score(y_test, y_test_pred)\n",
    "\n",
    "    # Append the score_loss to the scores list\n",
    "    score_loss_list.append(score_loss)\n",
    "    \n",
    "    # show the progress \n",
    "    bo_iteration = bo_iteration+1\n",
    "    print(f'Iteration: {bo_iteration}/{n_initial_points+n_iterations}')\n",
    "\n",
    "    return score_r2, score_loss\n",
    "\n",
    "# Define the search space for hyperparameters\n",
    "search_space = [{'name': 'num_hidden',   'type': 'discrete',   'domain': (1, 2, 3, 4)},\n",
    "                {'name': 'num_nodes',    'type': 'discrete',   'domain': (32, 64, 128, 256)},\n",
    "                {'name': 'dropout_rate', 'type': 'continuous', 'domain': (0.1, 0.5)},\n",
    "                {'name': 'loss_class',   'type': 'discrete',   'domain': (0, 1)}]\n",
    "\n",
    "\n",
    "\n",
    "\n",
    "# Define the dataframe to store the sampled parameters and corresponding objective values\n",
    "hypertable = pd.DataFrame(columns=['score_r2', 'score_loss', 'num_hidden', 'num_nodes', 'dropout_rate', 'loss_class'])\n",
    "\n",
    "# Set up the optimizer\n",
    "bo              = None\n",
    "score_loss_list = []\n",
    "bo_iteration    = 0\n",
    "\n",
    "# ----- Method I: use random starting point -----\n",
    "n_initial_points = 10\n",
    "n_iterations     = 50\n",
    "np.random.seed(1)\n",
    "\n",
    "bo = GPyOpt.methods.BayesianOptimization(f=lambda x: BO_hyper_objective(x, score_loss_list)[0],  # Use only score_r2 as objective function\n",
    "                                         domain=search_space,\n",
    "                                         model_type='GP',\n",
    "                                         initial_design_numdata=n_initial_points,\n",
    "                                         init_design_type='random',\n",
    "                                         acquisition_type='EI',\n",
    "                                         acquisition_optimizer_type='lbfgs',\n",
    "                                         acquisition_jitter=0.01,\n",
    "                                         maximize=True)\n",
    "# ----- Method II: use know good starting point ----- \n",
    "# n_iterations     = 40\n",
    "\n",
    "# bo = GPyOpt.methods.BayesianOptimization(f=lambda x: BO_hyper_objective(x)[0],  # Use only score_r2 as objective function\n",
    "#                                          domain=search_space,\n",
    "#                                          model_type='GP',\n",
    "#                                          initial_design_numdata=0,\n",
    "#                                          acquisition_type='EI',\n",
    "#                                          acquisition_optimizer_type='lbfgs',\n",
    "#                                          acquisition_jitter=0,\n",
    "#                                          maximize=True)\n",
    "\n",
    "# # bo.X = np.array([[4, 256, 0.021745, 0]])\n",
    "# # bo.Y = np.array([-0.839299]).reshape(-1,1)\n",
    "\n",
    "# bo.X = np.array([[1.0, 128.0, 0.010000,1.0]])\n",
    "# bo.Y = np.array([-0.771314]).reshape(-1,1)\n",
    "\n",
    "# ---------------------------------------------------\n",
    "\n",
    "bo.run_optimization(max_iter=n_iterations)\n",
    "\n",
    "# Print the best hyperparameters and objective value found\n",
    "best_hyperparameters = \", \".join(\"{:.4f}\".format(h) for h in bo.x_opt)\n",
    "print(\"Best hyperparameters: {}\".format(best_hyperparameters))\n",
    "print(\"Best objective value:\", -bo.fx_opt)\n",
    "\n",
    "elapsed_time = time.time() - start_time\n",
    "print(\"Time taken: \", int(elapsed_time), \"seconds\")"
   ]
  },
  {
   "attachments": {},
   "cell_type": "markdown",
   "id": "aeaba08e",
   "metadata": {},
   "source": [
    "##### documenting the search model hyperparameters"
   ]
  },
  {
   "cell_type": "code",
   "execution_count": null,
   "id": "7a845fcd",
   "metadata": {
    "execution": {
     "iopub.execute_input": "2023-03-23T18:04:13.406076Z",
     "iopub.status.busy": "2023-03-23T18:04:13.405668Z",
     "iopub.status.idle": "2023-03-23T18:04:13.466636Z",
     "shell.execute_reply": "2023-03-23T18:04:13.465778Z"
    },
    "papermill": {
     "duration": null,
     "end_time": null,
     "exception": null,
     "start_time": null,
     "status": "completed"
    },
    "tags": []
   },
   "outputs": [],
   "source": [
    "# Add the sampled hyperparameters and objective values to the dataframe\n",
    "for i in range(len(bo.X)):\n",
    "    row = dict(zip(['num_hidden', 'num_nodes', 'dropout_rate', 'loss_class'], bo.X[i]))\n",
    "    row['score_r2']   = -bo.Y.flatten()[i]\n",
    "    row['score_loss'] = np.array(score_loss_list)[i]\n",
    "    \n",
    "    # print(row)\n",
    "    hypertable.loc[len(hypertable)] = row\n",
    "\n",
    "# tablulate all the search score_r2 and hyperparameters\n",
    "display(hypertable)\n"
   ]
  },
  {
   "attachments": {},
   "cell_type": "markdown",
   "id": "54b99908",
   "metadata": {},
   "source": [
    "##### compare different ways of evaluating a model: loss function vs R2 score"
   ]
  },
  {
   "cell_type": "code",
   "execution_count": null,
   "id": "71761ee1",
   "metadata": {
    "execution": {
     "iopub.execute_input": "2023-03-23T18:04:13.603742Z",
     "iopub.status.busy": "2023-03-23T18:04:13.602926Z",
     "iopub.status.idle": "2023-03-23T18:04:14.252759Z",
     "shell.execute_reply": "2023-03-23T18:04:14.251676Z"
    },
    "papermill": {
     "duration": null,
     "end_time": null,
     "exception": null,
     "start_time": null,
     "status": "completed"
    },
    "tags": []
   },
   "outputs": [],
   "source": [
    "# ----- to see if the score_r2 is as good as score_loss\n",
    "fig, (ax1, ax2) = plt.subplots(1, 2, figsize=(8, 4))\n",
    "\n",
    "# Plot scatter plot for loss_class=1 in the first subplot\n",
    "ax1.scatter(hypertable.loc[hypertable['loss_class'] == 1, 'score_r2'], \n",
    "            hypertable.loc[hypertable['loss_class'] == 1, 'score_loss'])\n",
    "ax1.set(xlabel='score_r2', ylabel='score_loss', title='Loss Class 1', xlim=(0.4, 1))\n",
    "\n",
    "# Plot scatter plot for loss_class=0 in the second subplot\n",
    "ax2.scatter(hypertable.loc[hypertable['loss_class'] == 0, 'score_r2'], \n",
    "            hypertable.loc[hypertable['loss_class'] == 0, 'score_loss'])\n",
    "ax2.set(xlabel='score_r2', ylabel='score_loss', title='Loss Class 0', xlim=(0.4, 1))\n",
    "\n",
    "plt.tight_layout()\n",
    "plt.show()\n",
    "\n"
   ]
  },
  {
   "attachments": {},
   "cell_type": "markdown",
   "id": "706c82f1",
   "metadata": {},
   "source": [
    "## 4. Plotting the Bayesian Optimization Results\n",
    "We plot various graphs such as training and validation loss against epochs, predicted vs actual values and R-square score for each iteration. This provides visual insights into the model's performance.\n"
   ]
  },
  {
   "cell_type": "code",
   "execution_count": null,
   "id": "561549b0",
   "metadata": {
    "execution": {
     "iopub.execute_input": "2023-03-23T18:04:14.464289Z",
     "iopub.status.busy": "2023-03-23T18:04:14.463868Z",
     "iopub.status.idle": "2023-03-23T18:04:14.694766Z",
     "shell.execute_reply": "2023-03-23T18:04:14.693725Z"
    },
    "papermill": {
     "duration": null,
     "end_time": null,
     "exception": null,
     "start_time": null,
     "status": "completed"
    },
    "tags": []
   },
   "outputs": [],
   "source": [
    "hypertable_sort = hypertable.sort_values(by = ['score_r2'], ascending=False, ignore_index = True) # sort the list start from the best results\n",
    "display(hypertable_sort)\n",
    "\n",
    "# plot the convergence\n",
    "bo.plot_convergence()"
   ]
  },
  {
   "attachments": {},
   "cell_type": "markdown",
   "id": "f91e13fb",
   "metadata": {
    "papermill": {
     "duration": null,
     "end_time": null,
     "exception": null,
     "start_time": null,
     "status": "completed"
    },
    "tags": []
   },
   "source": [
    "##### plot the R2 score for each iteration (iteration = n_initial_points + n_iterations)"
   ]
  },
  {
   "cell_type": "code",
   "execution_count": null,
   "id": "702b1602",
   "metadata": {
    "execution": {
     "iopub.execute_input": "2023-03-23T18:04:15.019283Z",
     "iopub.status.busy": "2023-03-23T18:04:15.018938Z",
     "iopub.status.idle": "2023-03-23T18:04:15.114405Z",
     "shell.execute_reply": "2023-03-23T18:04:15.113411Z"
    },
    "papermill": {
     "duration": null,
     "end_time": null,
     "exception": null,
     "start_time": null,
     "status": "completed"
    },
    "tags": []
   },
   "outputs": [],
   "source": [
    "plt.figure(figsize=(5, 5))\n",
    "plt.plot(hypertable.index, hypertable['score_r2'])\n",
    "plt.plot(-bo.Y_best)\n",
    "plt.xlabel('iterations')\n",
    "plt.ylabel('score_r2')\n",
    "plt.show()"
   ]
  },
  {
   "attachments": {},
   "cell_type": "markdown",
   "id": "6112bcfe",
   "metadata": {
    "papermill": {
     "duration": null,
     "end_time": null,
     "exception": null,
     "start_time": null,
     "status": "completed"
    },
    "tags": []
   },
   "source": [
    "## 5. make the BO search parallel\n",
    "\n",
    "Parallelizing the Bayesian Optimization: To speed up the hyperparameter tuning process, we use joblib's Parallel function to run multiple instances of Bayesian optimization in parallel. Each of these instances performs a certain number of initial random samplings followed by a series of Bayesian optimization iterations. The best hyperparameters found by each instance are then returned and stored.\n",
    "\n",
    "- generate `num_ensemble` BO search in parallel\n",
    "- in each BO search: do random sampling of `n_initial_points` and then BO for `n_iterations`"
   ]
  },
  {
   "cell_type": "code",
   "execution_count": null,
   "id": "20704d60",
   "metadata": {
    "execution": {
     "iopub.execute_input": "2023-03-23T18:04:15.576373Z",
     "iopub.status.busy": "2023-03-23T18:04:15.576039Z",
     "iopub.status.idle": "2023-03-23T18:07:00.258364Z",
     "shell.execute_reply": "2023-03-23T18:07:00.257001Z"
    },
    "papermill": {
     "duration": null,
     "end_time": null,
     "exception": null,
     "start_time": null,
     "status": "completed"
    },
    "tags": []
   },
   "outputs": [],
   "source": [
    "def run_bayesian_optimization(n_initial_points, n_iterations, seed, hypertable, score_loss_list):\n",
    "    \n",
    "    BO_X_data, BO_Y_data, BO_Y_best_data = [], [], []\n",
    "\n",
    "    bo = None # initializing the bo variable\n",
    "    np.random.seed(seed)\n",
    "\n",
    "    # Set up the optimizer\n",
    "    bo = GPyOpt.methods.BayesianOptimization(f=lambda x: BO_hyper_objective(x,score_loss_list)[0],  # Use only score_r2 as objective function\n",
    "                                             domain=search_space,\n",
    "                                             model_type='GP',\n",
    "                                             initial_design_numdata=n_initial_points,\n",
    "                                             init_design_type='random',\n",
    "                                             acquisition_type='EI',\n",
    "                                             acquisition_optimizer_type='lbfgs',\n",
    "                                             acquisition_jitter=0.05,\n",
    "                                             maximize=True)\n",
    "\n",
    "    bo.run_optimization(max_iter=n_iterations)\n",
    "\n",
    "    # Print the best hyperparameters and objective value found\n",
    "    best_hyperparameters = \", \".join(\"{:.4f}\".format(h) for h in bo.x_opt)\n",
    "    print(\"Best hyperparameters: {}\".format(best_hyperparameters))\n",
    "    print(\"Best objective value:\", -bo.fx_opt)\n",
    "    \n",
    "    BO_X_data.append(bo.X)\n",
    "    BO_Y_data.append(-bo.Y.flatten())\n",
    "    BO_Y_best_data.append(-bo.Y_best.flatten())\n",
    "\n",
    "    # Add the sampled hyperparameters and objective values to the dataframe\n",
    "    for i in range(len(bo.X)):\n",
    "        row = dict(zip(['num_hidden', 'num_nodes', 'dropout_rate', 'loss_class'], bo.X[i]))\n",
    "        row['score_r2'] = -bo.Y.flatten()[i]\n",
    "        row['score_loss'] = np.array(score_loss_list)[i]\n",
    "\n",
    "        # print(row)\n",
    "        hypertable.loc[len(hypertable)] = row\n",
    "        \n",
    "        # we will have the hypertable_sort with i = 0 having highest `score_r2` in each ensemble\n",
    "        hypertable_sort = hypertable.sort_values(by = ['score_r2'], ascending=False, ignore_index = True) # sort the list start from the best results\n",
    "    \n",
    "    bo = None # initializing the bo variable\n",
    "    \n",
    "    return hypertable, hypertable_sort, BO_X_data, BO_Y_data, BO_Y_best_data\n",
    "# -----------------------------------------------------------------------------------\n",
    "\n",
    "\n",
    "# Parallelize the for loop using joblib\n",
    "num_ensemble = 10\n",
    "\n",
    "# Set the random seed\n",
    "rng = np.random.RandomState(123)\n",
    "seeds = rng.permutation(num_ensemble)\n",
    "\n",
    "# ----- I: Parallel ------\n",
    "# Define the dataframe to store the sampled parameters and corresponding objective values\n",
    "hypertable = pd.DataFrame(columns=['score_r2', 'score_loss', 'num_hidden', 'num_nodes', 'dropout_rate', 'loss_class'])\n",
    "\n",
    "# BO model parameters\n",
    "n_initial_points = 10\n",
    "n_iterations     = 30\n",
    "\n",
    "empty_list = [list() for _ in range(num_ensemble)]\n",
    "\n",
    "results = Parallel(n_jobs=-1)(delayed(run_bayesian_optimization)(n_initial_points, n_iterations, seeds[i], hypertable, empty_list[i]) for i in range(num_ensemble))\n",
    "# ----- II: for loop -----\n",
    "# results = []\n",
    "# for seed in tqdm(seeds):\n",
    "#     # print(seed)\n",
    "#     # Define the dataframe to store the sampled parameters and corresponding objective values\n",
    "#     hypertable = pd.DataFrame(columns=['score_r2', 'score_loss', 'num_hidden', 'num_nodes', 'dropout_rate', 'loss_class'])\n",
    "\n",
    "#     # BO model parameters\n",
    "#     n_initial_points = 10\n",
    "#     n_iterations     = 30\n",
    "\n",
    "#     result = run_bayesian_optimization(n_initial_points, n_iterations, seed, hypertable)\n",
    "#     results.append(result)\n",
    "# ---------------------------------\n"
   ]
  },
  {
   "cell_type": "code",
   "execution_count": null,
   "id": "ebb182a8",
   "metadata": {},
   "outputs": [],
   "source": [
    "# Combine the resulting dataframes from all iterations into one dataframe\n",
    "hypertable_ensemble      = pd.concat([r[0] for r in results], ignore_index=False)\n",
    "hypertable_sort_ensemble = pd.concat([r[1] for r in results], ignore_index=False)\n",
    "\n",
    "print('-----------------------------------------------------------')\n",
    "print('unsorted table for checking repeatable random inital points')\n",
    "print('-----------------------------------------------------------')\n",
    "display(hypertable_ensemble.loc[hypertable_ensemble.index == 0])\n",
    "hypertable_sort.to_excel(model_path+'BO_hyperparameter.xlsx')"
   ]
  },
  {
   "cell_type": "code",
   "execution_count": null,
   "id": "6f3599bd",
   "metadata": {
    "execution": {
     "iopub.execute_input": "2023-03-23T18:07:00.372655Z",
     "iopub.status.busy": "2023-03-23T18:07:00.372302Z",
     "iopub.status.idle": "2023-03-23T18:07:00.998190Z",
     "shell.execute_reply": "2023-03-23T18:07:00.996559Z"
    },
    "papermill": {
     "duration": null,
     "end_time": null,
     "exception": null,
     "start_time": null,
     "status": "completed"
    },
    "tags": []
   },
   "outputs": [],
   "source": [
    "# Print the dataframe with sampled parameters and corresponding objective values\n",
    "print('-----------------------------------------------------------')\n",
    "print('sorted table to get the best hyperparameters in each ensemble')\n",
    "print('-----------------------------------------------------------')\n",
    "display(hypertable_sort_ensemble.loc[hypertable_sort_ensemble.index == 0])\n",
    "hypertable_sort_ensemble.to_excel(model_path+'BO_hyperparamete_sort.xlsx')"
   ]
  },
  {
   "cell_type": "code",
   "execution_count": null,
   "id": "9f0131dc",
   "metadata": {
    "execution": {
     "iopub.execute_input": "2023-03-23T18:07:01.174796Z",
     "iopub.status.busy": "2023-03-23T18:07:01.174452Z",
     "iopub.status.idle": "2023-03-23T18:07:01.283581Z",
     "shell.execute_reply": "2023-03-23T18:07:01.282519Z"
    },
    "papermill": {
     "duration": null,
     "end_time": null,
     "exception": null,
     "start_time": null,
     "status": "completed"
    },
    "tags": []
   },
   "outputs": [],
   "source": [
    "BO_Y_best_data_list = [r[4] for r in results]\n",
    "\n",
    "plt.figure(figsize=(5, 5))\n",
    "for i, BO_Y_best_data in enumerate(BO_Y_best_data_list):\n",
    "    plt.plot(BO_Y_best_data[0], label=f'Ensemble {i+1}')\n",
    "plt.xlabel('Iteration')\n",
    "plt.ylabel('Best Objective Value')\n",
    "# plt.legend()\n",
    "plt.show()\n"
   ]
  },
  {
   "cell_type": "code",
   "execution_count": null,
   "id": "1cee2da8",
   "metadata": {
    "execution": {
     "iopub.execute_input": "2023-03-23T18:07:01.453495Z",
     "iopub.status.busy": "2023-03-23T18:07:01.453147Z",
     "iopub.status.idle": "2023-03-23T18:07:01.638295Z",
     "shell.execute_reply": "2023-03-23T18:07:01.637312Z"
    },
    "papermill": {
     "duration": null,
     "end_time": null,
     "exception": null,
     "start_time": null,
     "status": "completed"
    },
    "tags": []
   },
   "outputs": [],
   "source": [
    "# Extract the BO_Y_best_data from results\n",
    "BO_Y_best_data_list = [r[4] for r in results]\n",
    "\n",
    "# Pad the BO_Y_best_data arrays with the maximum value if their length is less than 40\n",
    "BO_Y_best_data_padded = []\n",
    "for BO_Y_best_data in BO_Y_best_data_list:\n",
    "    if len(BO_Y_best_data[0]) < 40:\n",
    "        max_value = np.max(BO_Y_best_data[0])\n",
    "        padding_length = 40 - len(BO_Y_best_data[0])\n",
    "        padded_data = np.pad(BO_Y_best_data[0], (0, padding_length), mode='constant', constant_values=max_value)\n",
    "        BO_Y_best_data_padded.append(padded_data)\n",
    "    else:\n",
    "        BO_Y_best_data_padded.append(BO_Y_best_data[0])\n",
    "\n",
    "# Convert the list of padded arrays to a numpy array\n",
    "BO_Y_best_data_padded = np.array(BO_Y_best_data_padded)\n",
    "\n",
    "# Compute the mean and standard deviation of the padded arrays\n",
    "mean = np.mean(BO_Y_best_data_padded, axis=0)\n",
    "std  = np.std(BO_Y_best_data_padded, axis=0)\n",
    "\n",
    "# Plot the mean and standard deviation as a function of iteration\n",
    "plt.figure(figsize=(5, 5))\n",
    "plt.plot(mean)\n",
    "plt.fill_between(np.arange(mean.shape[0]), mean-std, mean+std, alpha=0.2)\n",
    "plt.xlabel('Iteration')\n",
    "plt.ylabel('Best Objective Value')\n",
    "plt.savefig(model_path+'BO_Y_best_data_plot.png') # Save the plot as a file\n",
    "plt.show() # Display the plot\n"
   ]
  },
  {
   "attachments": {},
   "cell_type": "markdown",
   "id": "466f1494",
   "metadata": {
    "papermill": {
     "duration": null,
     "end_time": null,
     "exception": null,
     "start_time": null,
     "status": "completed"
    },
    "tags": []
   },
   "source": [
    "dummy code for testing "
   ]
  },
  {
   "cell_type": "code",
   "execution_count": null,
   "id": "230971b4",
   "metadata": {
    "execution": {
     "iopub.execute_input": "2023-03-23T18:07:02.087143Z",
     "iopub.status.busy": "2023-03-23T18:07:02.086777Z",
     "iopub.status.idle": "2023-03-23T18:07:02.093183Z",
     "shell.execute_reply": "2023-03-23T18:07:02.091963Z"
    },
    "papermill": {
     "duration": null,
     "end_time": null,
     "exception": null,
     "start_time": null,
     "status": "completed"
    },
    "tags": []
   },
   "outputs": [],
   "source": [
    "# import numpy as np\n",
    "# import GPyOpt\n",
    "\n",
    "# # Set the random seed for reproducibility\n",
    "# np.random.seed(123)\n",
    "\n",
    "# # Define the objective function to be optimized\n",
    "# def objective_function(x):\n",
    "#     y = np.sin(5*x[0]) * (1 - np.tanh(x[0]**2))\n",
    "#     return y\n",
    "\n",
    "# # Define the bounds of the search space\n",
    "# bounds = [{'name': 'x', 'type': 'continuous', 'domain': (-5, 5)}]\n",
    "\n",
    "# # Set the number of initial points and optimization iterations\n",
    "# n_initial_points = 5\n",
    "# n_iterations = 10\n",
    "\n",
    "# # Create the GPyOpt object with the objective function and bounds\n",
    "# optimizer = GPyOpt.methods.BayesianOptimization(f=objective_function, \n",
    "#                                                 domain=bounds, \n",
    "#                                                 initial_design_numdata=n_initial_points,\n",
    "#                                                 init_design_type='random',\n",
    "#                                                 acquisition_type='EI', # Set the acquisition function to use\n",
    "#                                                 batch_size=4, # Number of points to evaluate in parallel\n",
    "#                                                 num_cores=4, # Number of CPU cores to use for parallel evaluation\n",
    "#                                                 acquisition_jitter=0.01\n",
    "#                                                 ) \n",
    "\n",
    "# # Run the optimization for n_iterations iterations in parallel\n",
    "# optimizer.run_optimization(max_iter=n_iterations)\n",
    "\n",
    "# # Print the best found solution\n",
    "# print(\"Best solution found: x = {0:.4f}, y = {1:.4f}\".format(optimizer.x_opt[0], optimizer.fx_opt))\n",
    "# optimizer.plot_convergence()\n"
   ]
  }
 ],
 "metadata": {
  "kernelspec": {
   "display_name": "tf-env",
   "language": "python",
   "name": "python3"
  },
  "language_info": {
   "codemirror_mode": {
    "name": "ipython",
    "version": 3
   },
   "file_extension": ".py",
   "mimetype": "text/x-python",
   "name": "python",
   "nbconvert_exporter": "python",
   "pygments_lexer": "ipython3",
   "version": "3.9.16"
  },
  "papermill": {
   "default_parameters": {},
   "duration": 19.485352,
   "end_time": "2023-03-23T18:24:49.713021",
   "environment_variables": {},
   "exception": null,
   "input_path": "GpyOpt_hyperparameter_YW.ipynb",
   "output_path": "GpyOpt_hyperparameter_YW.ipynb",
   "parameters": {},
   "start_time": "2023-03-23T18:24:30.227669",
   "version": "2.3.4"
  }
 },
 "nbformat": 4,
 "nbformat_minor": 5
}
